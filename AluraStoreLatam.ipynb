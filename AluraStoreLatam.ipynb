{
  "nbformat": 4,
  "nbformat_minor": 0,
  "metadata": {
    "colab": {
      "provenance": []
    },
    "kernelspec": {
      "name": "python3",
      "display_name": "Python 3"
    },
    "language_info": {
      "name": "python"
    }
  },
  "cells": [
    {
      "cell_type": "markdown",
      "source": [
        "### Importación de datos\n",
        "\n"
      ],
      "metadata": {
        "id": "RhEdWd9YUR6H"
      }
    },
    {
      "cell_type": "code",
      "execution_count": 79,
      "metadata": {
        "colab": {
          "base_uri": "https://localhost:8080/",
          "height": 399
        },
        "id": "T3EvaeQ_INIL",
        "outputId": "294d6580-a3ce-47d6-fc8f-ab95a6c1922e"
      },
      "outputs": [
        {
          "output_type": "execute_result",
          "data": {
            "text/plain": [
              "            Producto Categoría del Producto    Precio  Costo de envío  \\\n",
              "0  Asistente virtual           Electrónicos  164300.0          6900.0   \n",
              "1    Mesa de comedor                Muebles  192300.0          8400.0   \n",
              "2      Juego de mesa               Juguetes  209600.0         15900.0   \n",
              "3         Microondas      Electrodomésticos  757500.0         41000.0   \n",
              "4   Silla de oficina                Muebles  335200.0         20200.0   \n",
              "\n",
              "  Fecha de Compra         Vendedor Lugar de Compra  Calificación  \\\n",
              "0      16/01/2021      Pedro Gomez          Bogotá             4   \n",
              "1      18/05/2022  Beatriz Morales        Medellín             1   \n",
              "2      15/03/2021   Juan Fernandez       Cartagena             1   \n",
              "3      03/05/2022   Juan Fernandez            Cali             4   \n",
              "4      07/11/2020    Maria Alfonso        Medellín             5   \n",
              "\n",
              "       Método de pago  Cantidad de cuotas       lat       lon  \n",
              "0  Tarjeta de crédito                   8   4.60971 -74.08175  \n",
              "1  Tarjeta de crédito                   4   6.25184 -75.56359  \n",
              "2  Tarjeta de crédito                   1  10.39972 -75.51444  \n",
              "3               Nequi                   1   3.43722 -76.52250  \n",
              "4               Nequi                   1   6.25184 -75.56359  "
            ],
            "text/html": [
              "\n",
              "  <div id=\"df-b721b7b3-a455-4902-9aae-ccf9ddf9a488\" class=\"colab-df-container\">\n",
              "    <div>\n",
              "<style scoped>\n",
              "    .dataframe tbody tr th:only-of-type {\n",
              "        vertical-align: middle;\n",
              "    }\n",
              "\n",
              "    .dataframe tbody tr th {\n",
              "        vertical-align: top;\n",
              "    }\n",
              "\n",
              "    .dataframe thead th {\n",
              "        text-align: right;\n",
              "    }\n",
              "</style>\n",
              "<table border=\"1\" class=\"dataframe\">\n",
              "  <thead>\n",
              "    <tr style=\"text-align: right;\">\n",
              "      <th></th>\n",
              "      <th>Producto</th>\n",
              "      <th>Categoría del Producto</th>\n",
              "      <th>Precio</th>\n",
              "      <th>Costo de envío</th>\n",
              "      <th>Fecha de Compra</th>\n",
              "      <th>Vendedor</th>\n",
              "      <th>Lugar de Compra</th>\n",
              "      <th>Calificación</th>\n",
              "      <th>Método de pago</th>\n",
              "      <th>Cantidad de cuotas</th>\n",
              "      <th>lat</th>\n",
              "      <th>lon</th>\n",
              "    </tr>\n",
              "  </thead>\n",
              "  <tbody>\n",
              "    <tr>\n",
              "      <th>0</th>\n",
              "      <td>Asistente virtual</td>\n",
              "      <td>Electrónicos</td>\n",
              "      <td>164300.0</td>\n",
              "      <td>6900.0</td>\n",
              "      <td>16/01/2021</td>\n",
              "      <td>Pedro Gomez</td>\n",
              "      <td>Bogotá</td>\n",
              "      <td>4</td>\n",
              "      <td>Tarjeta de crédito</td>\n",
              "      <td>8</td>\n",
              "      <td>4.60971</td>\n",
              "      <td>-74.08175</td>\n",
              "    </tr>\n",
              "    <tr>\n",
              "      <th>1</th>\n",
              "      <td>Mesa de comedor</td>\n",
              "      <td>Muebles</td>\n",
              "      <td>192300.0</td>\n",
              "      <td>8400.0</td>\n",
              "      <td>18/05/2022</td>\n",
              "      <td>Beatriz Morales</td>\n",
              "      <td>Medellín</td>\n",
              "      <td>1</td>\n",
              "      <td>Tarjeta de crédito</td>\n",
              "      <td>4</td>\n",
              "      <td>6.25184</td>\n",
              "      <td>-75.56359</td>\n",
              "    </tr>\n",
              "    <tr>\n",
              "      <th>2</th>\n",
              "      <td>Juego de mesa</td>\n",
              "      <td>Juguetes</td>\n",
              "      <td>209600.0</td>\n",
              "      <td>15900.0</td>\n",
              "      <td>15/03/2021</td>\n",
              "      <td>Juan Fernandez</td>\n",
              "      <td>Cartagena</td>\n",
              "      <td>1</td>\n",
              "      <td>Tarjeta de crédito</td>\n",
              "      <td>1</td>\n",
              "      <td>10.39972</td>\n",
              "      <td>-75.51444</td>\n",
              "    </tr>\n",
              "    <tr>\n",
              "      <th>3</th>\n",
              "      <td>Microondas</td>\n",
              "      <td>Electrodomésticos</td>\n",
              "      <td>757500.0</td>\n",
              "      <td>41000.0</td>\n",
              "      <td>03/05/2022</td>\n",
              "      <td>Juan Fernandez</td>\n",
              "      <td>Cali</td>\n",
              "      <td>4</td>\n",
              "      <td>Nequi</td>\n",
              "      <td>1</td>\n",
              "      <td>3.43722</td>\n",
              "      <td>-76.52250</td>\n",
              "    </tr>\n",
              "    <tr>\n",
              "      <th>4</th>\n",
              "      <td>Silla de oficina</td>\n",
              "      <td>Muebles</td>\n",
              "      <td>335200.0</td>\n",
              "      <td>20200.0</td>\n",
              "      <td>07/11/2020</td>\n",
              "      <td>Maria Alfonso</td>\n",
              "      <td>Medellín</td>\n",
              "      <td>5</td>\n",
              "      <td>Nequi</td>\n",
              "      <td>1</td>\n",
              "      <td>6.25184</td>\n",
              "      <td>-75.56359</td>\n",
              "    </tr>\n",
              "  </tbody>\n",
              "</table>\n",
              "</div>\n",
              "    <div class=\"colab-df-buttons\">\n",
              "\n",
              "  <div class=\"colab-df-container\">\n",
              "    <button class=\"colab-df-convert\" onclick=\"convertToInteractive('df-b721b7b3-a455-4902-9aae-ccf9ddf9a488')\"\n",
              "            title=\"Convert this dataframe to an interactive table.\"\n",
              "            style=\"display:none;\">\n",
              "\n",
              "  <svg xmlns=\"http://www.w3.org/2000/svg\" height=\"24px\" viewBox=\"0 -960 960 960\">\n",
              "    <path d=\"M120-120v-720h720v720H120Zm60-500h600v-160H180v160Zm220 220h160v-160H400v160Zm0 220h160v-160H400v160ZM180-400h160v-160H180v160Zm440 0h160v-160H620v160ZM180-180h160v-160H180v160Zm440 0h160v-160H620v160Z\"/>\n",
              "  </svg>\n",
              "    </button>\n",
              "\n",
              "  <style>\n",
              "    .colab-df-container {\n",
              "      display:flex;\n",
              "      gap: 12px;\n",
              "    }\n",
              "\n",
              "    .colab-df-convert {\n",
              "      background-color: #E8F0FE;\n",
              "      border: none;\n",
              "      border-radius: 50%;\n",
              "      cursor: pointer;\n",
              "      display: none;\n",
              "      fill: #1967D2;\n",
              "      height: 32px;\n",
              "      padding: 0 0 0 0;\n",
              "      width: 32px;\n",
              "    }\n",
              "\n",
              "    .colab-df-convert:hover {\n",
              "      background-color: #E2EBFA;\n",
              "      box-shadow: 0px 1px 2px rgba(60, 64, 67, 0.3), 0px 1px 3px 1px rgba(60, 64, 67, 0.15);\n",
              "      fill: #174EA6;\n",
              "    }\n",
              "\n",
              "    .colab-df-buttons div {\n",
              "      margin-bottom: 4px;\n",
              "    }\n",
              "\n",
              "    [theme=dark] .colab-df-convert {\n",
              "      background-color: #3B4455;\n",
              "      fill: #D2E3FC;\n",
              "    }\n",
              "\n",
              "    [theme=dark] .colab-df-convert:hover {\n",
              "      background-color: #434B5C;\n",
              "      box-shadow: 0px 1px 3px 1px rgba(0, 0, 0, 0.15);\n",
              "      filter: drop-shadow(0px 1px 2px rgba(0, 0, 0, 0.3));\n",
              "      fill: #FFFFFF;\n",
              "    }\n",
              "  </style>\n",
              "\n",
              "    <script>\n",
              "      const buttonEl =\n",
              "        document.querySelector('#df-b721b7b3-a455-4902-9aae-ccf9ddf9a488 button.colab-df-convert');\n",
              "      buttonEl.style.display =\n",
              "        google.colab.kernel.accessAllowed ? 'block' : 'none';\n",
              "\n",
              "      async function convertToInteractive(key) {\n",
              "        const element = document.querySelector('#df-b721b7b3-a455-4902-9aae-ccf9ddf9a488');\n",
              "        const dataTable =\n",
              "          await google.colab.kernel.invokeFunction('convertToInteractive',\n",
              "                                                    [key], {});\n",
              "        if (!dataTable) return;\n",
              "\n",
              "        const docLinkHtml = 'Like what you see? Visit the ' +\n",
              "          '<a target=\"_blank\" href=https://colab.research.google.com/notebooks/data_table.ipynb>data table notebook</a>'\n",
              "          + ' to learn more about interactive tables.';\n",
              "        element.innerHTML = '';\n",
              "        dataTable['output_type'] = 'display_data';\n",
              "        await google.colab.output.renderOutput(dataTable, element);\n",
              "        const docLink = document.createElement('div');\n",
              "        docLink.innerHTML = docLinkHtml;\n",
              "        element.appendChild(docLink);\n",
              "      }\n",
              "    </script>\n",
              "  </div>\n",
              "\n",
              "\n",
              "    <div id=\"df-3e70ff72-e07f-4fdd-806b-578db197b375\">\n",
              "      <button class=\"colab-df-quickchart\" onclick=\"quickchart('df-3e70ff72-e07f-4fdd-806b-578db197b375')\"\n",
              "                title=\"Suggest charts\"\n",
              "                style=\"display:none;\">\n",
              "\n",
              "<svg xmlns=\"http://www.w3.org/2000/svg\" height=\"24px\"viewBox=\"0 0 24 24\"\n",
              "     width=\"24px\">\n",
              "    <g>\n",
              "        <path d=\"M19 3H5c-1.1 0-2 .9-2 2v14c0 1.1.9 2 2 2h14c1.1 0 2-.9 2-2V5c0-1.1-.9-2-2-2zM9 17H7v-7h2v7zm4 0h-2V7h2v10zm4 0h-2v-4h2v4z\"/>\n",
              "    </g>\n",
              "</svg>\n",
              "      </button>\n",
              "\n",
              "<style>\n",
              "  .colab-df-quickchart {\n",
              "      --bg-color: #E8F0FE;\n",
              "      --fill-color: #1967D2;\n",
              "      --hover-bg-color: #E2EBFA;\n",
              "      --hover-fill-color: #174EA6;\n",
              "      --disabled-fill-color: #AAA;\n",
              "      --disabled-bg-color: #DDD;\n",
              "  }\n",
              "\n",
              "  [theme=dark] .colab-df-quickchart {\n",
              "      --bg-color: #3B4455;\n",
              "      --fill-color: #D2E3FC;\n",
              "      --hover-bg-color: #434B5C;\n",
              "      --hover-fill-color: #FFFFFF;\n",
              "      --disabled-bg-color: #3B4455;\n",
              "      --disabled-fill-color: #666;\n",
              "  }\n",
              "\n",
              "  .colab-df-quickchart {\n",
              "    background-color: var(--bg-color);\n",
              "    border: none;\n",
              "    border-radius: 50%;\n",
              "    cursor: pointer;\n",
              "    display: none;\n",
              "    fill: var(--fill-color);\n",
              "    height: 32px;\n",
              "    padding: 0;\n",
              "    width: 32px;\n",
              "  }\n",
              "\n",
              "  .colab-df-quickchart:hover {\n",
              "    background-color: var(--hover-bg-color);\n",
              "    box-shadow: 0 1px 2px rgba(60, 64, 67, 0.3), 0 1px 3px 1px rgba(60, 64, 67, 0.15);\n",
              "    fill: var(--button-hover-fill-color);\n",
              "  }\n",
              "\n",
              "  .colab-df-quickchart-complete:disabled,\n",
              "  .colab-df-quickchart-complete:disabled:hover {\n",
              "    background-color: var(--disabled-bg-color);\n",
              "    fill: var(--disabled-fill-color);\n",
              "    box-shadow: none;\n",
              "  }\n",
              "\n",
              "  .colab-df-spinner {\n",
              "    border: 2px solid var(--fill-color);\n",
              "    border-color: transparent;\n",
              "    border-bottom-color: var(--fill-color);\n",
              "    animation:\n",
              "      spin 1s steps(1) infinite;\n",
              "  }\n",
              "\n",
              "  @keyframes spin {\n",
              "    0% {\n",
              "      border-color: transparent;\n",
              "      border-bottom-color: var(--fill-color);\n",
              "      border-left-color: var(--fill-color);\n",
              "    }\n",
              "    20% {\n",
              "      border-color: transparent;\n",
              "      border-left-color: var(--fill-color);\n",
              "      border-top-color: var(--fill-color);\n",
              "    }\n",
              "    30% {\n",
              "      border-color: transparent;\n",
              "      border-left-color: var(--fill-color);\n",
              "      border-top-color: var(--fill-color);\n",
              "      border-right-color: var(--fill-color);\n",
              "    }\n",
              "    40% {\n",
              "      border-color: transparent;\n",
              "      border-right-color: var(--fill-color);\n",
              "      border-top-color: var(--fill-color);\n",
              "    }\n",
              "    60% {\n",
              "      border-color: transparent;\n",
              "      border-right-color: var(--fill-color);\n",
              "    }\n",
              "    80% {\n",
              "      border-color: transparent;\n",
              "      border-right-color: var(--fill-color);\n",
              "      border-bottom-color: var(--fill-color);\n",
              "    }\n",
              "    90% {\n",
              "      border-color: transparent;\n",
              "      border-bottom-color: var(--fill-color);\n",
              "    }\n",
              "  }\n",
              "</style>\n",
              "\n",
              "      <script>\n",
              "        async function quickchart(key) {\n",
              "          const quickchartButtonEl =\n",
              "            document.querySelector('#' + key + ' button');\n",
              "          quickchartButtonEl.disabled = true;  // To prevent multiple clicks.\n",
              "          quickchartButtonEl.classList.add('colab-df-spinner');\n",
              "          try {\n",
              "            const charts = await google.colab.kernel.invokeFunction(\n",
              "                'suggestCharts', [key], {});\n",
              "          } catch (error) {\n",
              "            console.error('Error during call to suggestCharts:', error);\n",
              "          }\n",
              "          quickchartButtonEl.classList.remove('colab-df-spinner');\n",
              "          quickchartButtonEl.classList.add('colab-df-quickchart-complete');\n",
              "        }\n",
              "        (() => {\n",
              "          let quickchartButtonEl =\n",
              "            document.querySelector('#df-3e70ff72-e07f-4fdd-806b-578db197b375 button');\n",
              "          quickchartButtonEl.style.display =\n",
              "            google.colab.kernel.accessAllowed ? 'block' : 'none';\n",
              "        })();\n",
              "      </script>\n",
              "    </div>\n",
              "\n",
              "    </div>\n",
              "  </div>\n"
            ],
            "application/vnd.google.colaboratory.intrinsic+json": {
              "type": "dataframe",
              "variable_name": "tienda",
              "summary": "{\n  \"name\": \"tienda\",\n  \"rows\": 2359,\n  \"fields\": [\n    {\n      \"column\": \"Producto\",\n      \"properties\": {\n        \"dtype\": \"category\",\n        \"num_unique_values\": 51,\n        \"samples\": [\n          \"Guitarra ac\\u00fastica\",\n          \"Bal\\u00f3n de baloncesto\",\n          \"Smartwatch\"\n        ],\n        \"semantic_type\": \"\",\n        \"description\": \"\"\n      }\n    },\n    {\n      \"column\": \"Categor\\u00eda del Producto\",\n      \"properties\": {\n        \"dtype\": \"category\",\n        \"num_unique_values\": 8,\n        \"samples\": [\n          \"Muebles\",\n          \"Deportes y diversi\\u00f3n\",\n          \"Electr\\u00f3nicos\"\n        ],\n        \"semantic_type\": \"\",\n        \"description\": \"\"\n      }\n    },\n    {\n      \"column\": \"Precio\",\n      \"properties\": {\n        \"dtype\": \"number\",\n        \"std\": 614686.7653873172,\n        \"min\": 7600.0,\n        \"max\": 2977000.0,\n        \"num_unique_values\": 1937,\n        \"samples\": [\n          2499400.0,\n          14800.0,\n          80500.0\n        ],\n        \"semantic_type\": \"\",\n        \"description\": \"\"\n      }\n    },\n    {\n      \"column\": \"Costo de env\\u00edo\",\n      \"properties\": {\n        \"dtype\": \"number\",\n        \"std\": 32860.0017825605,\n        \"min\": 0.0,\n        \"max\": 160800.0,\n        \"num_unique_values\": 753,\n        \"samples\": [\n          117800.0,\n          54700.0,\n          45600.0\n        ],\n        \"semantic_type\": \"\",\n        \"description\": \"\"\n      }\n    },\n    {\n      \"column\": \"Fecha de Compra\",\n      \"properties\": {\n        \"dtype\": \"object\",\n        \"num_unique_values\": 1018,\n        \"samples\": [\n          \"15/09/2022\",\n          \"03/06/2020\",\n          \"06/11/2021\"\n        ],\n        \"semantic_type\": \"\",\n        \"description\": \"\"\n      }\n    },\n    {\n      \"column\": \"Vendedor\",\n      \"properties\": {\n        \"dtype\": \"category\",\n        \"num_unique_values\": 14,\n        \"samples\": [\n          \"Juliana Costa\",\n          \"Mariana Herrera\",\n          \"Pedro Gomez\"\n        ],\n        \"semantic_type\": \"\",\n        \"description\": \"\"\n      }\n    },\n    {\n      \"column\": \"Lugar de Compra\",\n      \"properties\": {\n        \"dtype\": \"category\",\n        \"num_unique_values\": 19,\n        \"samples\": [\n          \"Bogot\\u00e1\",\n          \"Pereira\",\n          \"Neiva\"\n        ],\n        \"semantic_type\": \"\",\n        \"description\": \"\"\n      }\n    },\n    {\n      \"column\": \"Calificaci\\u00f3n\",\n      \"properties\": {\n        \"dtype\": \"number\",\n        \"std\": 1,\n        \"min\": 1,\n        \"max\": 5,\n        \"num_unique_values\": 5,\n        \"samples\": [\n          1,\n          2,\n          5\n        ],\n        \"semantic_type\": \"\",\n        \"description\": \"\"\n      }\n    },\n    {\n      \"column\": \"M\\u00e9todo de pago\",\n      \"properties\": {\n        \"dtype\": \"category\",\n        \"num_unique_values\": 4,\n        \"samples\": [\n          \"Nequi\",\n          \"Tarjeta de d\\u00e9bito\",\n          \"Tarjeta de cr\\u00e9dito\"\n        ],\n        \"semantic_type\": \"\",\n        \"description\": \"\"\n      }\n    },\n    {\n      \"column\": \"Cantidad de cuotas\",\n      \"properties\": {\n        \"dtype\": \"number\",\n        \"std\": 2,\n        \"min\": 1,\n        \"max\": 24,\n        \"num_unique_values\": 15,\n        \"samples\": [\n          7,\n          14,\n          8\n        ],\n        \"semantic_type\": \"\",\n        \"description\": \"\"\n      }\n    },\n    {\n      \"column\": \"lat\",\n      \"properties\": {\n        \"dtype\": \"number\",\n        \"std\": 2.2874452492678627,\n        \"min\": -4.21528,\n        \"max\": 11.54444,\n        \"num_unique_values\": 19,\n        \"samples\": [\n          4.60971,\n          4.81333,\n          2.9273\n        ],\n        \"semantic_type\": \"\",\n        \"description\": \"\"\n      }\n    },\n    {\n      \"column\": \"lon\",\n      \"properties\": {\n        \"dtype\": \"number\",\n        \"std\": 1.2178272727088486,\n        \"min\": -77.28111,\n        \"max\": -67.9239,\n        \"num_unique_values\": 19,\n        \"samples\": [\n          -74.08175,\n          -75.69611,\n          -75.28189\n        ],\n        \"semantic_type\": \"\",\n        \"description\": \"\"\n      }\n    }\n  ]\n}"
            }
          },
          "metadata": {},
          "execution_count": 79
        }
      ],
      "source": [
        "import pandas as pd\n",
        "\n",
        "\n",
        "url = \"https://raw.githubusercontent.com/alura-es-cursos/challenge1-data-science-latam/refs/heads/main/base-de-datos-challenge1-latam/tienda_1%20.csv\"\n",
        "url2 = \"https://raw.githubusercontent.com/alura-es-cursos/challenge1-data-science-latam/refs/heads/main/base-de-datos-challenge1-latam/tienda_2.csv\"\n",
        "url3 = \"https://raw.githubusercontent.com/alura-es-cursos/challenge1-data-science-latam/refs/heads/main/base-de-datos-challenge1-latam/tienda_3.csv\"\n",
        "url4 = \"https://raw.githubusercontent.com/alura-es-cursos/challenge1-data-science-latam/refs/heads/main/base-de-datos-challenge1-latam/tienda_4.csv\"\n",
        "\n",
        "tienda = pd.read_csv(url)\n",
        "tienda2 = pd.read_csv(url2)\n",
        "tienda3 = pd.read_csv(url3)\n",
        "tienda4 = pd.read_csv(url4)\n",
        "\n",
        "tienda.head()"
      ]
    },
    {
      "cell_type": "markdown",
      "source": [
        "#1. Análisis de facturación\n",
        "\n"
      ],
      "metadata": {
        "id": "X62IW3KFUIYm"
      }
    },
    {
      "cell_type": "code",
      "source": [
        "import pandas as pd\n",
        "\n",
        "# Diccionario con todas las tiendas\n",
        "tiendas = {\n",
        "    \"Tienda 1\": tienda,\n",
        "    \"Tienda 2\": tienda2,\n",
        "    \"Tienda 3\": tienda3,\n",
        "    \"Tienda 4\": tienda4\n",
        "}"
      ],
      "metadata": {
        "id": "CP8IKvPN9Ndv"
      },
      "execution_count": 80,
      "outputs": []
    },
    {
      "cell_type": "code",
      "source": [
        "ingresos_df = pd.DataFrame({\n",
        "    \"Tienda\": list(tiendas.keys()),\n",
        "    \"Ingreso Total\": [df[\"Precio\"].sum() for df in tiendas.values()]\n",
        "})\n",
        "\n",
        "print(ingresos_df)"
      ],
      "metadata": {
        "colab": {
          "base_uri": "https://localhost:8080/"
        },
        "id": "2UOj7ORVE52c",
        "outputId": "bce99732-e0da-4ab1-d40a-b6c298a9fbda"
      },
      "execution_count": 81,
      "outputs": [
        {
          "output_type": "stream",
          "name": "stdout",
          "text": [
            "     Tienda  Ingreso Total\n",
            "0  Tienda 1   1.150880e+09\n",
            "1  Tienda 2   1.116344e+09\n",
            "2  Tienda 3   1.098020e+09\n",
            "3  Tienda 4   1.038376e+09\n"
          ]
        }
      ]
    },
    {
      "cell_type": "code",
      "source": [
        "import matplotlib.pyplot as plt\n",
        "\n",
        "# Ingresos por tienda\n",
        "ingresos_df.plot(kind=\"bar\", x=\"Tienda\", y=\"Ingreso Total\", legend=False, title=\"Ingresos Totales por Tienda\")\n",
        "plt.ylabel(\"Ingreso Total\")\n",
        "plt.show()\n"
      ],
      "metadata": {
        "colab": {
          "base_uri": "https://localhost:8080/",
          "height": 518
        },
        "id": "u_mwRCbbOkRi",
        "outputId": "8439e3bb-0748-4141-abe0-cda317cf764d"
      },
      "execution_count": 82,
      "outputs": [
        {
          "output_type": "display_data",
          "data": {
            "text/plain": [
              "<Figure size 640x480 with 1 Axes>"
            ],
            "image/png": "[encoded data removed]"
          },
          "metadata": {}
        }
      ]
    },
    {
      "cell_type": "markdown",
      "source": [
        "A partir el calculo se puede evidenciar los ingresos totales por cada una de las tiendas"
      ],
      "metadata": {
        "id": "_qDLuYDSIa8K"
      }
    },
    {
      "cell_type": "markdown",
      "source": [
        "# 2. Ventas por categoría"
      ],
      "metadata": {
        "id": "2V_vcAPzWZmR"
      }
    },
    {
      "cell_type": "code",
      "source": [
        "for nombre, df in tiendas.items():\n",
        "    print(f\"{nombre}: {df.columns.tolist()}\")"
      ],
      "metadata": {
        "id": "A34YupIuYhfF",
        "colab": {
          "base_uri": "https://localhost:8080/"
        },
        "outputId": "18172482-6d3d-4eb1-a3a8-32c71a717a91"
      },
      "execution_count": 83,
      "outputs": [
        {
          "output_type": "stream",
          "name": "stdout",
          "text": [
            "Tienda 1: ['Producto', 'Categoría del Producto', 'Precio', 'Costo de envío', 'Fecha de Compra', 'Vendedor', 'Lugar de Compra', 'Calificación', 'Método de pago', 'Cantidad de cuotas', 'lat', 'lon']\n",
            "Tienda 2: ['Producto', 'Categoría del Producto', 'Precio', 'Costo de envío', 'Fecha de Compra', 'Vendedor', 'Lugar de Compra', 'Calificación', 'Método de pago', 'Cantidad de cuotas', 'lat', 'lon']\n",
            "Tienda 3: ['Producto', 'Categoría del Producto', 'Precio', 'Costo de envío', 'Fecha de Compra', 'Vendedor', 'Lugar de Compra', 'Calificación', 'Método de pago', 'Cantidad de cuotas', 'lat', 'lon']\n",
            "Tienda 4: ['Producto', 'Categoría del Producto', 'Precio', 'Costo de envío', 'Fecha de Compra', 'Vendedor', 'Lugar de Compra', 'Calificación', 'Método de pago', 'Cantidad de cuotas', 'lat', 'lon']\n"
          ]
        }
      ]
    },
    {
      "cell_type": "code",
      "source": [
        "df_todas = pd.concat([\n",
        "    df.assign(Tienda=tienda)\n",
        "    for tienda, df in tiendas.items()\n",
        "])\n",
        "\n",
        "categorias_df = df_todas.groupby(\n",
        "    [\"Tienda\", \"Categoría del Producto\"]\n",
        ")[\"Producto\"].count().reset_index(name=\"Cantidad\")\n",
        "\n",
        "print(categorias_df.head(32))"
      ],
      "metadata": {
        "colab": {
          "base_uri": "https://localhost:8080/"
        },
        "id": "Z52Ikyn_N34a",
        "outputId": "d5f5a121-5615-475b-b620-e9132de898b4"
      },
      "execution_count": 84,
      "outputs": [
        {
          "output_type": "stream",
          "name": "stdout",
          "text": [
            "      Tienda   Categoría del Producto  Cantidad\n",
            "0   Tienda 1  Artículos para el hogar       171\n",
            "1   Tienda 1     Deportes y diversión       284\n",
            "2   Tienda 1        Electrodomésticos       312\n",
            "3   Tienda 1             Electrónicos       448\n",
            "4   Tienda 1   Instrumentos musicales       182\n",
            "5   Tienda 1                 Juguetes       324\n",
            "6   Tienda 1                   Libros       173\n",
            "7   Tienda 1                  Muebles       465\n",
            "8   Tienda 2  Artículos para el hogar       181\n",
            "9   Tienda 2     Deportes y diversión       275\n",
            "10  Tienda 2        Electrodomésticos       305\n",
            "11  Tienda 2             Electrónicos       422\n",
            "12  Tienda 2   Instrumentos musicales       224\n",
            "13  Tienda 2                 Juguetes       313\n",
            "14  Tienda 2                   Libros       197\n",
            "15  Tienda 2                  Muebles       442\n",
            "16  Tienda 3  Artículos para el hogar       177\n",
            "17  Tienda 3     Deportes y diversión       277\n",
            "18  Tienda 3        Electrodomésticos       278\n",
            "19  Tienda 3             Electrónicos       451\n",
            "20  Tienda 3   Instrumentos musicales       177\n",
            "21  Tienda 3                 Juguetes       315\n",
            "22  Tienda 3                   Libros       185\n",
            "23  Tienda 3                  Muebles       499\n",
            "24  Tienda 4  Artículos para el hogar       201\n",
            "25  Tienda 4     Deportes y diversión       277\n",
            "26  Tienda 4        Electrodomésticos       254\n",
            "27  Tienda 4             Electrónicos       451\n",
            "28  Tienda 4   Instrumentos musicales       170\n",
            "29  Tienda 4                 Juguetes       338\n",
            "30  Tienda 4                   Libros       187\n",
            "31  Tienda 4                  Muebles       480\n"
          ]
        }
      ]
    },
    {
      "cell_type": "code",
      "source": [
        "# Categorías por tienda\n",
        "categorias_df.pivot(index=\"Categoría del Producto\", columns=\"Tienda\", values=\"Cantidad\").plot(kind=\"bar\", figsize=(10,6))\n",
        "plt.title(\"Productos vendidos por Categoría y Tienda\")\n",
        "plt.ylabel(\"Cantidad de Ventas\")\n",
        "plt.show()\n"
      ],
      "metadata": {
        "colab": {
          "base_uri": "https://localhost:8080/",
          "height": 716
        },
        "id": "8UVGhYTTOVNy",
        "outputId": "6b99f382-ad54-4b4f-d0ee-3e44c4f894c3"
      },
      "execution_count": 85,
      "outputs": [
        {
          "output_type": "display_data",
          "data": {
            "text/plain": [
              "<Figure size 1000x600 with 1 Axes>"
            ],
            "image/png": "[encoded data removed]"
          },
          "metadata": {}
        }
      ]
    },
    {
      "cell_type": "markdown",
      "source": [
        "# 3. Calificación promedio de la tienda\n"
      ],
      "metadata": {
        "id": "Rq6tU_xSY3jk"
      }
    },
    {
      "cell_type": "code",
      "source": [
        "calificaciones_df = pd.DataFrame({\n",
        "    \"Tienda\": list(tiendas.keys()),\n",
        "    \"Calificación Promedio\": [df[\"Calificación\"].mean() for df in tiendas.values()]\n",
        "})\n",
        "\n",
        "print(calificaciones_df)"
      ],
      "metadata": {
        "id": "bh3jjjJwY5MU",
        "colab": {
          "base_uri": "https://localhost:8080/"
        },
        "outputId": "530dd78f-1485-4016-f8ea-72cfcd620402"
      },
      "execution_count": 86,
      "outputs": [
        {
          "output_type": "stream",
          "name": "stdout",
          "text": [
            "     Tienda  Calificación Promedio\n",
            "0  Tienda 1               3.976685\n",
            "1  Tienda 2               4.037304\n",
            "2  Tienda 3               4.048326\n",
            "3  Tienda 4               3.995759\n"
          ]
        }
      ]
    },
    {
      "cell_type": "code",
      "source": [
        "# Calificaciones\n",
        "calificaciones_df.plot(kind=\"barh\", x=\"Tienda\", y=\"Calificación Promedio\", legend=False, title=\"Calificación Promedio por Tienda\", color=\"pink\")\n",
        "plt.xlabel(\"Calificación Promedio\")\n",
        "plt.show()"
      ],
      "metadata": {
        "colab": {
          "base_uri": "https://localhost:8080/",
          "height": 472
        },
        "id": "BtRfHLNROdxh",
        "outputId": "2ba1eec3-3ed0-4fd1-b3e0-ca87382645c8"
      },
      "execution_count": 87,
      "outputs": [
        {
          "output_type": "display_data",
          "data": {
            "text/plain": [
              "<Figure size 640x480 with 1 Axes>"
            ],
            "image/png": "[encoded data removed]"
          },
          "metadata": {}
        }
      ]
    },
    {
      "cell_type": "markdown",
      "source": [
        "# 4. Productos más y menos vendidos"
      ],
      "metadata": {
        "id": "DmNp1KPBZCm-"
      }
    },
    {
      "cell_type": "code",
      "source": [
        "ventas_df = pd.concat([\n",
        "    df[\"Producto\"].value_counts().reset_index()\n",
        "      .rename(columns={\"index\": \"Producto\", \"Producto\": \"Cantidad Vendida\"})\n",
        "      .assign(Tienda=tienda)\n",
        "    for tienda, df in tiendas.items()\n",
        "])\n",
        "\n",
        "print(\"Top 3 más vendidos por tienda:\")\n",
        "print(ventas_df.groupby(\"Tienda\").head(3))\n",
        "\n",
        "print(\"\\nTop 3 menos vendidos por tienda:\")\n",
        "print(ventas_df.groupby(\"Tienda\").tail(3))"
      ],
      "metadata": {
        "id": "qoyjqijQZHfF",
        "colab": {
          "base_uri": "https://localhost:8080/"
        },
        "outputId": "44a35b96-977e-4214-e064-6b70c61d98c9"
      },
      "execution_count": 88,
      "outputs": [
        {
          "output_type": "stream",
          "name": "stdout",
          "text": [
            "Top 3 más vendidos por tienda:\n",
            "            Cantidad Vendida  count    Tienda\n",
            "0                 Microondas     60  Tienda 1\n",
            "1              TV LED UHD 4K     60  Tienda 1\n",
            "2                    Armario     60  Tienda 1\n",
            "0  Iniciando en programación     65  Tienda 2\n",
            "1                 Microondas     62  Tienda 2\n",
            "2                    Batería     61  Tienda 2\n",
            "0              Kit de bancas     57  Tienda 3\n",
            "1            Mesa de comedor     56  Tienda 3\n",
            "2                  Cama king     56  Tienda 3\n",
            "0                   Cama box     62  Tienda 4\n",
            "1                 Cubertería     59  Tienda 4\n",
            "2    Dashboards con Power BI     56  Tienda 4\n",
            "\n",
            "Top 3 menos vendidos por tienda:\n",
            "             Cantidad Vendida  count    Tienda\n",
            "48            Olla de presión     35  Tienda 1\n",
            "49  Auriculares con micrófono     33  Tienda 1\n",
            "50               Celular ABXY     33  Tienda 1\n",
            "48            Mesa de comedor     34  Tienda 2\n",
            "49                  Impresora     34  Tienda 2\n",
            "50              Juego de mesa     32  Tienda 2\n",
            "48                    Mochila     36  Tienda 3\n",
            "49                 Microondas     36  Tienda 3\n",
            "50    Bloques de construcción     35  Tienda 3\n",
            "48          Guitarra acústica     37  Tienda 4\n",
            "49                    Armario     34  Tienda 4\n",
            "50         Guitarra eléctrica     33  Tienda 4\n"
          ]
        }
      ]
    },
    {
      "cell_type": "markdown",
      "source": [
        "# 5. Envío promedio por tienda"
      ],
      "metadata": {
        "id": "Fl0cGi3bZKqU"
      }
    },
    {
      "cell_type": "code",
      "source": [
        "costos_envio_df = pd.DataFrame({\n",
        "    \"Tienda\": list(tiendas.keys()),\n",
        "    \"Costo Envío Promedio\": [df[\"Costo de envío\"].mean() for df in tiendas.values()]\n",
        "})\n",
        "\n",
        "print(costos_envio_df)"
      ],
      "metadata": {
        "id": "S2JeaCykZNy9",
        "colab": {
          "base_uri": "https://localhost:8080/"
        },
        "outputId": "d292c07a-56d0-42fe-c497-351f0ebcecd8"
      },
      "execution_count": 89,
      "outputs": [
        {
          "output_type": "stream",
          "name": "stdout",
          "text": [
            "     Tienda  Costo Envío Promedio\n",
            "0  Tienda 1          26018.609580\n",
            "1  Tienda 2          25216.235693\n",
            "2  Tienda 3          24805.680373\n",
            "3  Tienda 4          23459.457167\n"
          ]
        }
      ]
    },
    {
      "cell_type": "code",
      "source": [
        "plt.figure(figsize=(6,6))\n",
        "plt.pie(\n",
        "    costos_envio_df[\"Costo Envío Promedio\"],      # valores\n",
        "    labels=costos_envio_df[\"Tienda\"],             # etiquetas\n",
        "    autopct='%1.1f%%',                            # mostrar porcentajes\n",
        "    startangle=90,                                # comienzo desde arriba\n",
        "    wedgeprops={\"edgecolor\":\"black\"}              # borde negro\n",
        ")\n",
        "plt.title(\"Porcentaje del Costo de Envío Promedio por Tienda\")\n",
        "plt.show()"
      ],
      "metadata": {
        "colab": {
          "base_uri": "https://localhost:8080/",
          "height": 521
        },
        "id": "OvOxjNl8O2Rh",
        "outputId": "fdbad5a9-8a2b-44e0-94ba-c481cb448520"
      },
      "execution_count": 90,
      "outputs": [
        {
          "output_type": "display_data",
          "data": {
            "text/plain": [
              "<Figure size 600x600 with 1 Axes>"
            ],
            "image/png": "[encoded data removed]"
          },
          "metadata": {}
        }
      ]
    },
    {
      "cell_type": "markdown",
      "source": [
        "# **Informe final**\n",
        "\n",
        "El objetivo de este análisis fue determinar en qué tienda debería vender sus productos el Sr. Juan. Para esto, se evaluaron los ingresos totales, las categorías más y menos vendidas, las calificaciones promedio de los clientes, los productos más y menos vendidos y los costos de envío promedio de cada tienda. Con esta información se busca identificar la tienda con mayor potencial de rentabilidad y satisfacción del cliente.\n",
        "\n",
        "\n",
        "# *Desarrollo del análisis*\n",
        "\n",
        "1. Ingresos Totales\n",
        "\n",
        "Tienda 1: 1,150,880,000\n",
        "\n",
        "Tienda 2: 1,116,344,000\n",
        "\n",
        "Tienda 3: 1,098,020,000\n",
        "\n",
        "Tienda 4: 1,038,376,000\n",
        "\n",
        "\n",
        "De este analisis podemos destacar que la Tienda 1 tiene el mayor ingreso total, seguida de cerca por Tienda 2 y Tienda 3. La Tienda 4 es la que presenta los ingresos más bajos.\n",
        "\n",
        "\n",
        "\n",
        "2. Categorías de Productos más y menos vendidas\n",
        "\n",
        "En este punto podemos observar que todas las tiendas mantienen un comportamiento similar, podemos destacar que:\n",
        "\n",
        "Los productos más vendidos son: Muebles y Electrónicos.\n",
        "\n",
        "Los productos menos vendidos: Instrumentos musicales y Libros.\n",
        "\n",
        "Esto muestra que las categorías fuertes son consistentes entre tiendas, lo que indica estabilidad de mercado. El Sr. Juan debería considerar si sus productos se alinean con Muebles y Electrónicos, que concentran la mayor demanda.\n",
        "\n",
        "\n",
        "\n",
        "3. Calificaciones Promedio\n",
        "\n",
        "Tienda 1: 3.98\n",
        "\n",
        "Tienda 2: 4.04\n",
        "\n",
        "Tienda 3: 4.05\n",
        "\n",
        "Tienda 4: 4.00\n",
        "\n",
        "La tienda 3 y la tienda 2 presentan las mejores calificaciones, indicando mejor satisfacción y experiencia de compra para los clientes.\n",
        "\n",
        "\n",
        "\n",
        "4. Productos más y menos vendidos\n",
        "\n",
        "Productos más vendidos:\n",
        "\n",
        "Tienda 1 → Microondas, TV LED UHD 4K, Armario.\n",
        "\n",
        "Tienda 2 → Iniciando en programación, Microondas, Batería.\n",
        "\n",
        "Tienda 3 → Kit de bancas, Mesa de comedor, Cama king.\n",
        "\n",
        "Tienda 4 → Cama box, Cubertería, Dashboards con Power BI.\n",
        "\n",
        "Productos menos vendidos:\n",
        "\n",
        "Tienda 1 → Olla de presión, Auriculares con micrófono, Celular ABXY.\n",
        "\n",
        "Tienda 2 → Mesa de comedor, Impresora, Juego de mesa.\n",
        "\n",
        "Tienda 3 → Mochila, Microondas, Bloques de construcción.\n",
        "\n",
        "Tienda 4 → Guitarra acústica, Armario, Guitarra eléctrica.\n",
        "\n",
        "Las preferencias cambian según la tienda. Sin embargo, los productos de hogar y electrónicos se repiten en posiciones de mayor venta.\n",
        "\n",
        "\n",
        "\n",
        "5. Costos de Envío Promedio\n",
        "\n",
        "Tienda 1: 26,018\n",
        "\n",
        "Tienda 2: 25,216\n",
        "\n",
        "Tienda 3: 24,805\n",
        "\n",
        "Tienda 4: 23,459\n",
        "\n",
        "La tienda 4 tiene los costos de envío más bajos, lo que la hace competitiva en este aspecto. La tienda 1, en contraste, es la más cara.\n",
        "\n",
        "# *Conclusión y Recomendación*\n",
        "\n",
        "Tras analizar los resultados:\n",
        "\n",
        "La tienda 1 es la que destaca en cuanto a los ingresos, pero por otro lado tiene el costo de envío más alto y una calificación promedio más baja frente a otras tiendas.\n",
        "\n",
        "La tienda 2 y la tienda 3 presentan un buen equilibrio entre ingresos, satisfacción del cliente y categorías fuertes, lo que las hace muy competitivas.\n",
        "\n",
        "Por ultimo la tienda 4 tiene los costos de envío más bajos, pero sus ingresos son significativamente menores y la satisfacción no sobresale.\n",
        "\n",
        "\n",
        "\n",
        "# *✔ Recomendación Final:*\n",
        "El Sr. Juan debería vender en **Tienda 3**, ya que combina:\n",
        "\n",
        "Calificación promedio más alta (4.05).\n",
        "\n",
        "Buena facturación (casi al nivel de las tiendas 1 y 2).\n",
        "\n",
        "Categorías alineadas con la demanda del mercado (Muebles y Electrónicos).\n",
        "\n",
        "Costos de envío competitivos (24,805, mejores que las tienda 1 y 2).\n",
        "\n",
        "De esta manera, la tienda 3 ofrece el mejor balance entre rentabilidad, costos y satisfacción del cliente, lo cual maximiza las posibilidades de éxito."
      ],
      "metadata": {
        "id": "TYzi4L0iQfM6"
      }
    }
  ]
}